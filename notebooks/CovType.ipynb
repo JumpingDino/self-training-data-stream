{
 "cells": [
  {
   "cell_type": "code",
   "execution_count": 19,
   "metadata": {},
   "outputs": [],
   "source": [
    "import sys\n",
    "sys.path.append('../src/')\n",
    "\n",
    "import numpy as np\n",
    "import pandas as pd\n",
    "\n",
    "import matplotlib.pyplot as plt\n",
    "import seaborn as sns\n",
    "\n",
    "from LEC import Lec\n",
    "\n",
    "from sklearn.datasets import load_iris\n",
    "from sklearn.datasets import load_wine\n",
    "from sklearn.datasets import load_boston\n",
    "from sklearn.datasets import make_blobs\n",
    "\n",
    "from sklearn.naive_bayes import GaussianNB\n",
    "from sklearn.utils.validation import check_is_fitted\n",
    "from sklearn.exceptions import NotFittedError\n",
    "\n",
    "from sklearn.metrics import accuracy_score\n",
    "\n",
    "from utils import unlabel\n",
    "\n",
    "from river import drift\n",
    "\n",
    "def chunk_indexes(iterator,size=5000):\n",
    "    \n",
    "    idxs = list(range(0,len(iterator),size))\n",
    "        \n",
    "    if len(iterator) not in idxs:\n",
    "        idxs = idxs + [len(iterator)]\n",
    "    \n",
    "    idxs = [(idxs[i],idxs[i+1]) for i in range(0, len(idxs) - 1) ]\n",
    "    return idxs\n",
    "\n",
    "#TODO Melhorar o racional do KL Divergence\n",
    "def kl_divergence(p, q):\n",
    "    return np.sum(np.where(p != 0, p * np.log(p / q), 0))\n",
    "\n",
    "def is_fitted(model):\n",
    "    try:\n",
    "        check_is_fitted(model)\n",
    "        response = True\n",
    "        \n",
    "    except NotFittedError:\n",
    "        response = False\n",
    "        \n",
    "    return response\n",
    "\n",
    "def chunk_where(X,y,unlabelled = False):\n",
    "    if unlabelled:\n",
    "        mask_label = y == -1\n",
    "        \n",
    "    else:\n",
    "        mask_label = y != -1\n",
    "        \n",
    "    return X[mask_label],y[mask_label]"
   ]
  },
  {
   "cell_type": "code",
   "execution_count": 20,
   "metadata": {},
   "outputs": [],
   "source": [
    "#df = pd.read_csv('../data/covtype/covtype.data.gz',header=None)\n",
    "df = pd.read_csv('../data/electricity/electricity_nomalized.csv',header=None)\n",
    "X = df.iloc[:,:-1]\n",
    "y = df.iloc[:,-1]"
   ]
  },
  {
   "cell_type": "code",
   "execution_count": 23,
   "metadata": {},
   "outputs": [],
   "source": [
    "y = y.replace({'DOWN':0,\n",
    "               'UP':1})"
   ]
  },
  {
   "cell_type": "code",
   "execution_count": 54,
   "metadata": {},
   "outputs": [
    {
     "name": "stdout",
     "output_type": "stream",
     "text": [
      "Criação do modelo Inicial executado com sucesso!\n",
      "Step: 1 Finished\n",
      "[0.8136645962732919]\n",
      "Step: 2 Finished\n",
      "[0.8136645962732919, 0.7945115257958287]\n",
      "Step: 3 Finished\n",
      "[0.8136645962732919, 0.7945115257958287, 0.7994652406417112]\n",
      "Step: 4 Finished\n",
      "[0.8136645962732919, 0.7945115257958287, 0.7994652406417112, 0.7602313167259787]\n",
      "Step: 5 Finished\n",
      "[0.8136645962732919, 0.7945115257958287, 0.7994652406417112, 0.7602313167259787, 0.7024866785079928]\n",
      "Step: 6 Finished\n",
      "[0.8136645962732919, 0.7945115257958287, 0.7994652406417112, 0.7602313167259787, 0.7024866785079928, 0.6416184971098265]\n",
      "Step: 7 Finished\n",
      "[0.8136645962732919, 0.7945115257958287, 0.7994652406417112, 0.7602313167259787, 0.7024866785079928, 0.6416184971098265, 0.607229446770994]\n",
      "Step: 8 Finished\n",
      "[0.8136645962732919, 0.7945115257958287, 0.7994652406417112, 0.7602313167259787, 0.7024866785079928, 0.6416184971098265, 0.607229446770994, 0.792326567031006]\n",
      "Step: 9 Finished\n",
      "[0.8136645962732919, 0.7945115257958287, 0.7994652406417112, 0.7602313167259787, 0.7024866785079928, 0.6416184971098265, 0.607229446770994, 0.792326567031006, 0.8117908787541713]\n",
      "Step: 10 Finished\n",
      "[0.8136645962732919, 0.7945115257958287, 0.7994652406417112, 0.7602313167259787, 0.7024866785079928, 0.6416184971098265, 0.607229446770994, 0.792326567031006, 0.8117908787541713, 0.8185053380782918]\n"
     ]
    }
   ],
   "source": [
    "# import random\n",
    "# rnd_indx = random.choices(population = df.index,k = 1000)\n",
    "\n",
    "# rnd_df = df.iloc[rnd_indx]\n",
    "# rnd_X = rnd_df.iloc[:,:-1]\n",
    "# rnd_y = rnd_df.iloc[:,-1]\n",
    "\n",
    "# incremental_cls = GaussianNB()\n",
    "# incremental_cls.fit(rnd_X,rnd_y)\n",
    "\n",
    "incremental_cls = GaussianNB()\n",
    "\n",
    "drift_detector = drift.ADWIN()\n",
    "\n",
    "K = 20\n",
    "Q = 10\n",
    "THRESHOLD = 0.9\n",
    "idxs = chunk_indexes(X,size=5000)\n",
    "cncpt_drift = False\n",
    "drifts = []\n",
    "\n",
    "acc_scores = []\n",
    "for step, batch_bound in enumerate(idxs):\n",
    "    \n",
    "    #Separacao dos dados e introducao de ruido na target\n",
    "    Di = X.iloc[batch_bound[0]:batch_bound[1],:]\n",
    "    y_chunk = y.iloc[batch_bound[0]:batch_bound[1]]\n",
    "    y_unl= unlabel(y_chunk,frac = 0.9)\n",
    "\n",
    "    if step == 0:\n",
    "        #seleciona só dados rotulados para treinamento inicial \n",
    "        assert not is_fitted(incremental_cls)\n",
    "        Di_labelled,y_labelled = chunk_where(Di,y_chunk,unlabelled = False)\n",
    "        incremental_cls.fit(Di_labelled,y_labelled)\n",
    "        print('Criação do modelo Inicial executado com sucesso!')\n",
    "        \n",
    "    ###################################################\n",
    "    #TODO: Detector de medidor de conceito\n",
    "    if cncpt_drift and step !=0 :\n",
    "        incremental_cls = GaussianNB() #restarta modelo\n",
    "    \n",
    "        print('Training Supervised Classifier')\n",
    "        #filtra somente os dados rotulados\n",
    "#       X_labeled = \n",
    "#       y_labeled =\n",
    "        \n",
    "        incremental_cls.fit(X_labeled,y_labeled)\n",
    "        psd_chunk = pd.DataFrame()\n",
    "    ###################################################\n",
    "    else:\n",
    "            \n",
    "        #LEC Prediction in Di\n",
    "        c_ens = Lec(y_r = y_unl, Q=Q, Di=Di)\n",
    "        ###################################################\n",
    "        #TODO: Concertar o fato de pegar a PRIMEIRA Mode\n",
    "        LEC_pred = c_ens.fit_transform(K=K).mode(axis=1)[0]\n",
    "        ###################################################\n",
    "        \n",
    "        #predict nos dados nao rotulados com classificador\n",
    "        cls_pred = incremental_cls.predict_proba(Di) #desta forma fazemos o predict na base toda\n",
    "        \n",
    "        S_all =pd.concat([pd.Series(y_unl,name='labels'),\n",
    "           pd.Series(LEC_pred,name='LEC'),\n",
    "           #TODO: pode ser interessante ter a confidence do LEC tbm\n",
    "           pd.Series(np.argmax(cls_pred,axis=1), name='CLS'),\n",
    "           pd.Series(np.max(cls_pred,axis=1), name='conf_CLS')],\n",
    "           axis=1)\n",
    "\n",
    "        S = S_all[S_all['LEC'] == S_all['CLS']].sort_values(by='conf_CLS',ascending=False)\n",
    "        R = S[S['conf_CLS'] > THRESHOLD]\n",
    "        \n",
    "        Di_psd_chunk = Di.iloc[R.index]\n",
    "        y_psd_chunk = y_chunk.iloc[R.index]\n",
    "            \n",
    "        if step > 0:\n",
    "            \n",
    "            Di_labelled,y_labelled = chunk_where(Di,y_chunk,unlabelled = False)\n",
    "            \n",
    "            Di_labelled = pd.concat([Di_labelled,Di_psd_chunk])\n",
    "            yi_labelled = pd.concat([y_labelled,y_psd_chunk])\n",
    "            incremental_cls.partial_fit(Di_labelled,yi_labelled)\n",
    "\n",
    "        ############################## BOnus\n",
    "        #forca retreino do classificador\n",
    "        ###########################    \n",
    "    \n",
    "    print(f'Step: {step+1} Finished')\n",
    "    \n",
    "    #Métrica do modelo só em dados não rotulados\n",
    "    D_u, _ = chunk_where(Di, y_unl, unlabelled = True)\n",
    "    y_u = y_chunk[D_u.index]\n",
    "    \n",
    "    D_u_cls_pred = incremental_cls.predict(D_u)\n",
    "    acc_scores.append(accuracy_score(y_u, D_u_cls_pred))\n",
    "    print(acc_scores)"
   ]
  },
  {
   "cell_type": "markdown",
   "metadata": {},
   "source": [
    "### Incremental learning - Naive Bayes"
   ]
  },
  {
   "cell_type": "code",
   "execution_count": 50,
   "metadata": {},
   "outputs": [
    {
     "name": "stdout",
     "output_type": "stream",
     "text": [
      "Step: 1 Finished\n",
      "[0.8147818343722173]\n",
      "Step: 2 Finished\n",
      "[0.8147818343722173, 0.7968611847922192]\n",
      "Step: 3 Finished\n",
      "[0.8147818343722173, 0.7968611847922192, 0.7932724437513923]\n",
      "Step: 4 Finished\n",
      "[0.8147818343722173, 0.7968611847922192, 0.7932724437513923, 0.7448123620309051]\n",
      "Step: 5 Finished\n",
      "[0.8147818343722173, 0.7968611847922192, 0.7932724437513923, 0.7448123620309051, 0.7069081153588196]\n",
      "Step: 6 Finished\n",
      "[0.8147818343722173, 0.7968611847922192, 0.7932724437513923, 0.7448123620309051, 0.7069081153588196, 0.6362632508833922]\n",
      "Step: 7 Finished\n",
      "[0.8147818343722173, 0.7968611847922192, 0.7932724437513923, 0.7448123620309051, 0.7069081153588196, 0.6362632508833922, 0.604194556001785]\n",
      "Step: 8 Finished\n",
      "[0.8147818343722173, 0.7968611847922192, 0.7932724437513923, 0.7448123620309051, 0.7069081153588196, 0.6362632508833922, 0.604194556001785, 0.7826569084054114]\n",
      "Step: 9 Finished\n",
      "[0.8147818343722173, 0.7968611847922192, 0.7932724437513923, 0.7448123620309051, 0.7069081153588196, 0.6362632508833922, 0.604194556001785, 0.7826569084054114, 0.7913781550145187]\n",
      "Step: 10 Finished\n",
      "[0.8147818343722173, 0.7968611847922192, 0.7932724437513923, 0.7448123620309051, 0.7069081153588196, 0.6362632508833922, 0.604194556001785, 0.7826569084054114, 0.7913781550145187, 0.784452296819788]\n"
     ]
    }
   ],
   "source": [
    "banch_scores = []\n",
    "for step, batch_bound in enumerate(idxs):\n",
    "    \n",
    "    #Separacao dos dados e introducao de ruido na target\n",
    "    Di = X.iloc[batch_bound[0]:batch_bound[1],:]\n",
    "    y_chunk = y.iloc[batch_bound[0]:batch_bound[1]]\n",
    "    y_unl= unlabel(y_chunk,frac = 0.9)\n",
    "    \n",
    "    #seleciona só dados rotulados para treinamento inicial \n",
    "    Di_labelled,y_labelled = chunk_where(Di,y_chunk,unlabelled = False)\n",
    "    \n",
    "    if step == 0:\n",
    "        incremental_cls.fit(Di_labelled,y_labelled)\n",
    "    else:\n",
    "        incremental_cls.partial_fit(Di_labelled,y_labelled)\n",
    "        \n",
    "    print(f'Step: {step+1} Finished')\n",
    "    \n",
    "    #Métrica do modelo só em dados não rotulados\n",
    "    D_u, _ = chunk_where(Di, y_unl, unlabelled = True)\n",
    "    \n",
    "    y_u = y_chunk[D_u.index]\n",
    "    D_u_cls_pred = incremental_cls.predict(D_u)\n",
    "    banch_scores.append(accuracy_score(y_u, D_u_cls_pred))\n",
    "    print(banch_scores)"
   ]
  },
  {
   "cell_type": "code",
   "execution_count": 56,
   "metadata": {},
   "outputs": [
    {
     "data": {
      "text/plain": [
       "[<matplotlib.lines.Line2D at 0x1402d094370>]"
      ]
     },
     "execution_count": 56,
     "metadata": {},
     "output_type": "execute_result"
    },
    {
     "data": {
      "image/png": "[encoded data removed]",
      "text/plain": [
       "<Figure size 432x288 with 1 Axes>"
      ]
     },
     "metadata": {
      "needs_background": "light"
     },
     "output_type": "display_data"
    }
   ],
   "source": [
    "plt.plot(range(1,len(banch_scores)+1),banch_scores)\n",
    "plt.plot(range(1,len(acc_scores)+1),acc_scores)"
   ]
  }
 ],
 "metadata": {
  "kernelspec": {
   "display_name": "Python 3",
   "language": "python",
   "name": "python3"
  },
  "language_info": {
   "codemirror_mode": {
    "name": "ipython",
    "version": 3
   },
   "file_extension": ".py",
   "mimetype": "text/x-python",
   "name": "python",
   "nbconvert_exporter": "python",
   "pygments_lexer": "ipython3",
   "version": "3.8.5"
  }
 },
 "nbformat": 4,
 "nbformat_minor": 4
}
